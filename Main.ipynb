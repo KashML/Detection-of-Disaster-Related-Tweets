{
  "nbformat": 4,
  "nbformat_minor": 0,
  "metadata": {
    "colab": {
      "name": "Alda_main_project.ipynb",
      "provenance": []
    },
    "kernelspec": {
      "name": "python3",
      "display_name": "Python 3"
    },
    "accelerator": "GPU"
  },
  "cells": [
    {
      "cell_type": "code",
      "metadata": {
        "id": "Rqz5-eYy6bzc",
        "outputId": "9aeda381-78b3-434e-a575-f7d493129f41",
        "colab": {
          "base_uri": "https://localhost:8080/"
        }
      },
      "source": [
        "from google.colab import drive\n",
        "drive.mount('/content/drive')"
      ],
      "execution_count": null,
      "outputs": [
        {
          "output_type": "stream",
          "text": [
            "Drive already mounted at /content/drive; to attempt to forcibly remount, call drive.mount(\"/content/drive\", force_remount=True).\n"
          ],
          "name": "stdout"
        }
      ]
    },
    {
      "cell_type": "code",
      "metadata": {
        "id": "iXCbhWS86-j6"
      },
      "source": [
        "import os\n",
        "os.chdir('/content/drive/My Drive/dataset_faketweets')\n",
        "from helper import *\n",
        "import numpy as np\n",
        "import pandas as pd\n",
        "import keras \n",
        "from keras.preprocessing.text import Tokenizer\n",
        "\n",
        "from keras.models import Sequential\n",
        "from keras.initializers import Constant\n",
        "from keras.layers import (LSTM, \n",
        "                          Embedding, \n",
        "                          BatchNormalization,\n",
        "                          Dense, \n",
        "                          TimeDistributed, \n",
        "                          Dropout, \n",
        "                          Bidirectional,\n",
        "                          Flatten, \n",
        "                          GlobalMaxPool1D)\n",
        "from keras.layers import Input\n",
        "from keras.models import Model\n",
        "from keras.layers.embeddings import Embedding\n",
        "from keras.preprocessing.sequence import pad_sequences\n",
        "from sklearn.model_selection import train_test_split\n",
        "from keras.layers.merge import concatenate\n"
      ],
      "execution_count": null,
      "outputs": []
    },
    {
      "cell_type": "markdown",
      "metadata": {
        "id": "q6179D8VAFr_"
      },
      "source": [
        "# Reading Data "
      ]
    },
    {
      "cell_type": "code",
      "metadata": {
        "id": "VDxHaeY47QhQ",
        "outputId": "193d4d41-118e-4f25-e074-a02d371ac3bd",
        "colab": {
          "base_uri": "https://localhost:8080/",
          "height": 377
        }
      },
      "source": [
        "df = pd.read_csv('train_processed.csv',index_col='id')\n",
        "df.pop(\"Unnamed: 0\")\n",
        "df['text']= df['text'].apply(lambda x : str(x).lower())\n",
        "df.head()"
      ],
      "execution_count": null,
      "outputs": [
        {
          "output_type": "execute_result",
          "data": {
            "text/html": [
              "<div>\n",
              "<style scoped>\n",
              "    .dataframe tbody tr th:only-of-type {\n",
              "        vertical-align: middle;\n",
              "    }\n",
              "\n",
              "    .dataframe tbody tr th {\n",
              "        vertical-align: top;\n",
              "    }\n",
              "\n",
              "    .dataframe thead th {\n",
              "        text-align: right;\n",
              "    }\n",
              "</style>\n",
              "<table border=\"1\" class=\"dataframe\">\n",
              "  <thead>\n",
              "    <tr style=\"text-align: right;\">\n",
              "      <th></th>\n",
              "      <th>text</th>\n",
              "      <th>char_count</th>\n",
              "      <th>punctuation_count</th>\n",
              "      <th>word_count</th>\n",
              "      <th>unique_word_count</th>\n",
              "      <th>stop_word_count</th>\n",
              "      <th>mean_word_length</th>\n",
              "      <th>target</th>\n",
              "    </tr>\n",
              "    <tr>\n",
              "      <th>id</th>\n",
              "      <th></th>\n",
              "      <th></th>\n",
              "      <th></th>\n",
              "      <th></th>\n",
              "      <th></th>\n",
              "      <th></th>\n",
              "      <th></th>\n",
              "      <th></th>\n",
              "    </tr>\n",
              "  </thead>\n",
              "  <tbody>\n",
              "    <tr>\n",
              "      <th>1</th>\n",
              "      <td>our deeds are the reason of this earthquake ma...</td>\n",
              "      <td>69</td>\n",
              "      <td>1</td>\n",
              "      <td>13</td>\n",
              "      <td>13</td>\n",
              "      <td>6</td>\n",
              "      <td>4.307692</td>\n",
              "      <td>1</td>\n",
              "    </tr>\n",
              "    <tr>\n",
              "      <th>4</th>\n",
              "      <td>forest fire near la ronge sask canada</td>\n",
              "      <td>38</td>\n",
              "      <td>1</td>\n",
              "      <td>7</td>\n",
              "      <td>7</td>\n",
              "      <td>0</td>\n",
              "      <td>4.428571</td>\n",
              "      <td>1</td>\n",
              "    </tr>\n",
              "    <tr>\n",
              "      <th>5</th>\n",
              "      <td>all residents asked to shelter in place are be...</td>\n",
              "      <td>133</td>\n",
              "      <td>3</td>\n",
              "      <td>22</td>\n",
              "      <td>18</td>\n",
              "      <td>11</td>\n",
              "      <td>4.954545</td>\n",
              "      <td>1</td>\n",
              "    </tr>\n",
              "    <tr>\n",
              "      <th>6</th>\n",
              "      <td>people receive wildfires evacuation orders in...</td>\n",
              "      <td>65</td>\n",
              "      <td>2</td>\n",
              "      <td>7</td>\n",
              "      <td>7</td>\n",
              "      <td>1</td>\n",
              "      <td>7.142857</td>\n",
              "      <td>1</td>\n",
              "    </tr>\n",
              "    <tr>\n",
              "      <th>7</th>\n",
              "      <td>just got sent this photo from ruby alaska as s...</td>\n",
              "      <td>88</td>\n",
              "      <td>2</td>\n",
              "      <td>16</td>\n",
              "      <td>15</td>\n",
              "      <td>7</td>\n",
              "      <td>4.375000</td>\n",
              "      <td>1</td>\n",
              "    </tr>\n",
              "  </tbody>\n",
              "</table>\n",
              "</div>"
            ],
            "text/plain": [
              "                                                 text  ...  target\n",
              "id                                                     ...        \n",
              "1   our deeds are the reason of this earthquake ma...  ...       1\n",
              "4               forest fire near la ronge sask canada  ...       1\n",
              "5   all residents asked to shelter in place are be...  ...       1\n",
              "6    people receive wildfires evacuation orders in...  ...       1\n",
              "7   just got sent this photo from ruby alaska as s...  ...       1\n",
              "\n",
              "[5 rows x 8 columns]"
            ]
          },
          "metadata": {
            "tags": []
          },
          "execution_count": 206
        }
      ]
    },
    {
      "cell_type": "markdown",
      "metadata": {
        "id": "zYIym-rxfgTA"
      },
      "source": [
        "# Preparing Data "
      ]
    },
    {
      "cell_type": "code",
      "metadata": {
        "id": "FUwExcGRfkrN"
      },
      "source": [
        "sequence_length = 32\n",
        "\n",
        "Tokens = Tokenization(df['text'].copy(),pad_length=sequence_length)\n",
        "vocab = Tokens.vocab \n",
        "vocab_length = len(vocab)\n",
        "\n",
        "padded_sentences = Tokens.convert_to_numbers(df['text'].copy())\n",
        "\n",
        "X_train, X_test, df_train, df_test = train_test_split(\n",
        "    padded_sentences, \n",
        "    df, \n",
        "    test_size=0.25,\n",
        "    random_state =10\n",
        ")\n",
        "\n",
        "y_train = df_train[\"target\"]\n",
        "y_test = df_test[\"target\"]"
      ],
      "execution_count": null,
      "outputs": []
    },
    {
      "cell_type": "code",
      "metadata": {
        "id": "e_Fde59jflBx",
        "outputId": "b0b94feb-871d-4dc9-a953-e4e7181ea71f",
        "colab": {
          "base_uri": "https://localhost:8080/"
        }
      },
      "source": [
        "print(X_train[0])"
      ],
      "execution_count": null,
      "outputs": [
        {
          "output_type": "stream",
          "text": [
            "[ 172 9401 9398 8998 4969 9156   28   24 4240  287 9399 1399    0    0\n",
            "    0    0    0    0    0    0    0    0    0    0    0    0    0    0\n",
            "    0    0    0    0]\n"
          ],
          "name": "stdout"
        }
      ]
    },
    {
      "cell_type": "markdown",
      "metadata": {
        "id": "SttS_Zt0AK3f"
      },
      "source": [
        "# gLove Embeddings"
      ]
    },
    {
      "cell_type": "code",
      "metadata": {
        "id": "bfBkzTtQAJBI"
      },
      "source": [
        "file = open('glove.6B.100d.txt')\n",
        "glove_dictionary = {}\n",
        "\n",
        "for lines in file:\n",
        "  entry = lines.split()\n",
        "  word = entry[0]\n",
        "  vector = np.asarray(entry[1:],'float32')\n",
        "  glove_dictionary[word] = vector\n"
      ],
      "execution_count": null,
      "outputs": []
    },
    {
      "cell_type": "code",
      "metadata": {
        "id": "0C7BwfPSM4EP"
      },
      "source": [
        "glove_dimensions = 100\n",
        "glove_matrix = np.zeros((vocab_length,glove_dimensions))\n",
        "\n",
        "for word,index in vocab.items():\n",
        "  if word in glove_dictionary:\n",
        "    glove_matrix[index] = glove_dictionary[word]"
      ],
      "execution_count": null,
      "outputs": []
    },
    {
      "cell_type": "markdown",
      "metadata": {
        "id": "DX2m4L9qf-71"
      },
      "source": [
        "# Model"
      ]
    },
    {
      "cell_type": "code",
      "metadata": {
        "id": "U3eBHtY7Picd"
      },
      "source": [
        "lstm_output_dim = 8\n",
        "\n",
        "def api():\n",
        "\n",
        "  text_input = Input(shape=(sequence_length,))\n",
        "  char_count = Input(shape=(1,))\n",
        "  punctuation_count = Input(shape=(1,))\n",
        "  word_count = Input(shape=(1,))\n",
        "  unique_word_count = Input(shape=(1,))\n",
        "  stop_word_count = Input(shape=(1,))\n",
        "  mean_word_length = Input(shape=(1,))\n",
        "\n",
        "\n",
        "  embed      = Embedding(input_dim=glove_matrix.shape[0], \n",
        "                        output_dim=glove_matrix.shape[1], \n",
        "                        weights = [glove_matrix], \n",
        "                        input_length=sequence_length)(text_input)\n",
        "  lstm_layer =(LSTM(lstm_output_dim, return_sequences = True, recurrent_dropout=0.2))(embed)\n",
        "  pool_1 = GlobalMaxPool1D()(lstm_layer)\n",
        "  batchnorm_1 = BatchNormalization()(pool_1)\n",
        "  \n",
        "  dense_text = Dense(lstm_output_dim*2, activation = \"relu\")(batchnorm_1)\n",
        "  dense_1_1 = Dense(1, activation= \"relu\")(char_count)\n",
        "  dense_1_2 = Dense(1, activation= \"relu\")(punctuation_count)\n",
        "  dense_1_3 = Dense(1, activation= \"relu\")(word_count)\n",
        "  dense_1_4 = Dense(1, activation= \"relu\")(unique_word_count)\n",
        "  dense_1_5 = Dense(1, activation= \"relu\")(stop_word_count)\n",
        "  dense_1_6 = Dense(1, activation= \"relu\")(mean_word_length)\n",
        "  dense_metadata = concatenate([dense_1_1,dense_1_2,dense_1_3,dense_1_4,dense_1_5,dense_1_6])\n",
        "\n",
        "  merge     = concatenate([dense_text,dense_metadata])\n",
        "  \n",
        "  dropout_1 = Dropout(0.5)(merge)\n",
        "  output = Dense(1,activation='sigmoid')(dropout_1)\n",
        " \n",
        "  model  = Model(inputs=[text_input,char_count,punctuation_count,word_count,unique_word_count,stop_word_count,mean_word_length],outputs=output)\n",
        "  model.compile(optimizer='rmsprop', loss='binary_crossentropy', metrics=['accuracy'])\n",
        "  return model\n",
        "\n"
      ],
      "execution_count": null,
      "outputs": []
    },
    {
      "cell_type": "code",
      "metadata": {
        "id": "poWVCZgau9N2",
        "outputId": "e49b61fc-c7b8-4679-aff7-792f265e53aa",
        "colab": {
          "base_uri": "https://localhost:8080/"
        }
      },
      "source": [
        "model = api()\n",
        "model.summary()"
      ],
      "execution_count": null,
      "outputs": [
        {
          "output_type": "stream",
          "text": [
            "WARNING:tensorflow:Layer lstm_29 will not use cuDNN kernel since it doesn't meet the cuDNN kernel criteria. It will use generic GPU kernel as fallback when running on GPU\n",
            "Model: \"functional_57\"\n",
            "__________________________________________________________________________________________________\n",
            "Layer (type)                    Output Shape         Param #     Connected to                     \n",
            "==================================================================================================\n",
            "input_204 (InputLayer)          [(None, 32)]         0                                            \n",
            "__________________________________________________________________________________________________\n",
            "embedding_29 (Embedding)        (None, 32, 100)      1645900     input_204[0][0]                  \n",
            "__________________________________________________________________________________________________\n",
            "lstm_29 (LSTM)                  (None, 32, 8)        3488        embedding_29[0][0]               \n",
            "__________________________________________________________________________________________________\n",
            "global_max_pooling1d_29 (Global (None, 8)            0           lstm_29[0][0]                    \n",
            "__________________________________________________________________________________________________\n",
            "input_205 (InputLayer)          [(None, 1)]          0                                            \n",
            "__________________________________________________________________________________________________\n",
            "input_206 (InputLayer)          [(None, 1)]          0                                            \n",
            "__________________________________________________________________________________________________\n",
            "input_207 (InputLayer)          [(None, 1)]          0                                            \n",
            "__________________________________________________________________________________________________\n",
            "input_208 (InputLayer)          [(None, 1)]          0                                            \n",
            "__________________________________________________________________________________________________\n",
            "input_209 (InputLayer)          [(None, 1)]          0                                            \n",
            "__________________________________________________________________________________________________\n",
            "input_210 (InputLayer)          [(None, 1)]          0                                            \n",
            "__________________________________________________________________________________________________\n",
            "batch_normalization_29 (BatchNo (None, 8)            32          global_max_pooling1d_29[0][0]    \n",
            "__________________________________________________________________________________________________\n",
            "dense_232 (Dense)               (None, 1)            2           input_205[0][0]                  \n",
            "__________________________________________________________________________________________________\n",
            "dense_233 (Dense)               (None, 1)            2           input_206[0][0]                  \n",
            "__________________________________________________________________________________________________\n",
            "dense_234 (Dense)               (None, 1)            2           input_207[0][0]                  \n",
            "__________________________________________________________________________________________________\n",
            "dense_235 (Dense)               (None, 1)            2           input_208[0][0]                  \n",
            "__________________________________________________________________________________________________\n",
            "dense_236 (Dense)               (None, 1)            2           input_209[0][0]                  \n",
            "__________________________________________________________________________________________________\n",
            "dense_237 (Dense)               (None, 1)            2           input_210[0][0]                  \n",
            "__________________________________________________________________________________________________\n",
            "dense_231 (Dense)               (None, 8)            72          batch_normalization_29[0][0]     \n",
            "__________________________________________________________________________________________________\n",
            "concatenate_48 (Concatenate)    (None, 6)            0           dense_232[0][0]                  \n",
            "                                                                 dense_233[0][0]                  \n",
            "                                                                 dense_234[0][0]                  \n",
            "                                                                 dense_235[0][0]                  \n",
            "                                                                 dense_236[0][0]                  \n",
            "                                                                 dense_237[0][0]                  \n",
            "__________________________________________________________________________________________________\n",
            "concatenate_49 (Concatenate)    (None, 14)           0           dense_231[0][0]                  \n",
            "                                                                 concatenate_48[0][0]             \n",
            "__________________________________________________________________________________________________\n",
            "dropout_28 (Dropout)            (None, 14)           0           concatenate_49[0][0]             \n",
            "__________________________________________________________________________________________________\n",
            "dense_238 (Dense)               (None, 1)            15          dropout_28[0][0]                 \n",
            "==================================================================================================\n",
            "Total params: 1,649,519\n",
            "Trainable params: 1,649,503\n",
            "Non-trainable params: 16\n",
            "__________________________________________________________________________________________________\n"
          ],
          "name": "stdout"
        }
      ]
    },
    {
      "cell_type": "code",
      "metadata": {
        "id": "x5BkndhNWUhy",
        "outputId": "743dc7b7-60c8-4399-de9e-fa6eb77a7669",
        "colab": {
          "base_uri": "https://localhost:8080/"
        }
      },
      "source": [
        "model = api()\n",
        "X = [X_train,df_train[\"char_count\"],df_train[\"punctuation_count\"],df_train[\"word_count\"],df_train[\"unique_word_count\"],df_train[\"stop_word_count\"],df_train[\"mean_word_length\"]]\n",
        "\n",
        "history = model.fit(X,y_train, validation_split=0.2, epochs=10,batch_size=64)"
      ],
      "execution_count": null,
      "outputs": [
        {
          "output_type": "stream",
          "text": [
            "WARNING:tensorflow:Layer lstm_32 will not use cuDNN kernel since it doesn't meet the cuDNN kernel criteria. It will use generic GPU kernel as fallback when running on GPU\n",
            "Epoch 1/10\n",
            "72/72 [==============================] - 8s 112ms/step - loss: 1.3652 - accuracy: 0.5706 - val_loss: 0.6911 - val_accuracy: 0.6217\n",
            "Epoch 2/10\n",
            "72/72 [==============================] - 8s 108ms/step - loss: 0.8293 - accuracy: 0.6624 - val_loss: 0.5471 - val_accuracy: 0.7391\n",
            "Epoch 3/10\n",
            "72/72 [==============================] - 8s 108ms/step - loss: 0.5875 - accuracy: 0.7421 - val_loss: 0.4885 - val_accuracy: 0.7916\n",
            "Epoch 4/10\n",
            "72/72 [==============================] - 8s 107ms/step - loss: 0.4941 - accuracy: 0.7918 - val_loss: 0.4475 - val_accuracy: 0.8179\n",
            "Epoch 5/10\n",
            "72/72 [==============================] - 8s 107ms/step - loss: 0.4225 - accuracy: 0.8202 - val_loss: 0.4281 - val_accuracy: 0.8292\n",
            "Epoch 6/10\n",
            "72/72 [==============================] - 8s 108ms/step - loss: 0.3854 - accuracy: 0.8478 - val_loss: 0.4613 - val_accuracy: 0.7872\n",
            "Epoch 7/10\n",
            "72/72 [==============================] - 8s 108ms/step - loss: 0.3551 - accuracy: 0.8603 - val_loss: 0.4230 - val_accuracy: 0.8292\n",
            "Epoch 8/10\n",
            "72/72 [==============================] - 8s 108ms/step - loss: 0.3128 - accuracy: 0.8840 - val_loss: 0.4300 - val_accuracy: 0.8275\n",
            "Epoch 9/10\n",
            "72/72 [==============================] - 8s 108ms/step - loss: 0.2815 - accuracy: 0.8966 - val_loss: 0.4482 - val_accuracy: 0.8284\n",
            "Epoch 10/10\n",
            "72/72 [==============================] - 8s 108ms/step - loss: 0.2519 - accuracy: 0.9078 - val_loss: 0.4818 - val_accuracy: 0.8144\n"
          ],
          "name": "stdout"
        }
      ]
    },
    {
      "cell_type": "markdown",
      "metadata": {
        "id": "3FBTztLb_bpk"
      },
      "source": [
        "#Model Evaluation"
      ]
    },
    {
      "cell_type": "code",
      "metadata": {
        "id": "bpgTRDa7G9lz",
        "outputId": "d5d206ea-2035-4fa4-d54a-4ac268727e22",
        "colab": {
          "base_uri": "https://localhost:8080/",
          "height": 516
        }
      },
      "source": [
        "\n",
        "def model_evaluation(model):\n",
        "\n",
        "  t_loss = model.history['loss']\n",
        "  t_acc  = model.history['accuracy']\n",
        "  v_loss = model.history['val_loss']\n",
        "  v_acc  = model.history['val_accuracy']\n",
        "  x_axis = len(t_loss)\n",
        "\n",
        "  fig,(ax1) = plt.subplots(1,1,figsize=(12,8))\n",
        "  # ax.plot(t_loss,color = 'blue',label = 'Train')\n",
        "  # ax.plot(v_loss,color = 'orange',label = 'Val')\n",
        "  # ax.set_xlabel(\"#Epochs\")\n",
        "  # ax.set_ylabel(\"Loss\")\n",
        "  # ax.set_title('Loss Plot')\n",
        "  # ax.legend()\n",
        "\n",
        "  ax1.plot(t_acc,color = 'blue',label = 'Train')\n",
        "  ax1.plot(v_acc,color = 'orange',label = 'Val')\n",
        "  ax1.set_title('Accuracy Plot')\n",
        "  ax1.set_xlabel(\"#Epochs\")\n",
        "  ax1.set_ylabel(\"Accuracy\")\n",
        "  ax1.legend()\n",
        "  \n",
        "  plt.show()\n",
        "\n",
        "model_evaluation(history)"
      ],
      "execution_count": null,
      "outputs": [
        {
          "output_type": "display_data",
          "data": {
            "image/png": "[encoded data removed]",
            "text/plain": [
              "<Figure size 864x576 with 1 Axes>"
            ]
          },
          "metadata": {
            "tags": []
          }
        }
      ]
    },
    {
      "cell_type": "code",
      "metadata": {
        "id": "KsG4er7BKYb-",
        "outputId": "890b423a-aa58-4dfa-ce5c-b3ddfb0e1996",
        "colab": {
          "base_uri": "https://localhost:8080/",
          "height": 107
        }
      },
      "source": [
        "\n",
        "X1 = [X_test,df_test[\"char_count\"],df_test[\"punctuation_count\"],df_test[\"word_count\"],df_test[\"unique_word_count\"],df_test[\"stop_word_count\"],df_test[\"mean_word_length\"]]\n",
        "\n",
        "y_score = model.predict(X1)\n",
        "y_pred = []\n",
        "for x in y_score:\n",
        "  if x > 0.5:\n",
        "    y_pred.append([1])\n",
        "  else:\n",
        "    y_pred.append([0])\n",
        "\n",
        "y_pred = []\n",
        "for x in y_score:\n",
        "  if x > 0.4:\n",
        "    y_pred.append([1])\n",
        "  else:\n",
        "    y_pred.append([0])\n",
        "\n",
        "print(y_pred)\n",
        "\n",
        "\n",
        "metric = Metrics(y_test,y_pred,y_score)\n",
        "metric.cost_matrix()\n"
      ],
      "execution_count": null,
      "outputs": [
        {
          "output_type": "display_data",
          "data": {
            "text/html": [
              "<div>\n",
              "<style scoped>\n",
              "    .dataframe tbody tr th:only-of-type {\n",
              "        vertical-align: middle;\n",
              "    }\n",
              "\n",
              "    .dataframe tbody tr th {\n",
              "        vertical-align: top;\n",
              "    }\n",
              "\n",
              "    .dataframe thead th {\n",
              "        text-align: right;\n",
              "    }\n",
              "</style>\n",
              "<table border=\"1\" class=\"dataframe\">\n",
              "  <thead>\n",
              "    <tr style=\"text-align: right;\">\n",
              "      <th></th>\n",
              "      <th>Positive</th>\n",
              "      <th>Negative</th>\n",
              "    </tr>\n",
              "  </thead>\n",
              "  <tbody>\n",
              "    <tr>\n",
              "      <th>Positive</th>\n",
              "      <td>736</td>\n",
              "      <td>121</td>\n",
              "    </tr>\n",
              "    <tr>\n",
              "      <th>Negative</th>\n",
              "      <td>268</td>\n",
              "      <td>875</td>\n",
              "    </tr>\n",
              "  </tbody>\n",
              "</table>\n",
              "</div>"
            ],
            "text/plain": [
              "          Positive  Negative\n",
              "Positive       736       121\n",
              "Negative       268       875"
            ]
          },
          "metadata": {
            "tags": []
          }
        }
      ]
    },
    {
      "cell_type": "code",
      "metadata": {
        "id": "2VqgMo_JM3W4",
        "outputId": "06c4cb2b-bb7f-4174-c61f-9aef4c1aea8b",
        "colab": {
          "base_uri": "https://localhost:8080/",
          "height": 675
        }
      },
      "source": [
        "metric.scores()\n",
        "metric.roc_curve()\n"
      ],
      "execution_count": null,
      "outputs": [
        {
          "output_type": "stream",
          "text": [
            "F1-score:  0.7909725953788287\n",
            "Precision:  0.7330677290836654\n",
            "Recall:  0.8588098016336057\n",
            "Acuracy:  0.8055\n",
            "--------------------------------------------------\n",
            "              precision    recall  f1-score   support\n",
            "\n",
            "           0       0.88      0.77      0.82      1143\n",
            "           1       0.73      0.86      0.79       857\n",
            "\n",
            "    accuracy                           0.81      2000\n",
            "   macro avg       0.81      0.81      0.80      2000\n",
            "weighted avg       0.82      0.81      0.81      2000\n",
            "\n",
            "--------------------------------------------------\n"
          ],
          "name": "stdout"
        },
        {
          "output_type": "display_data",
          "data": {
            "image/png": "[encoded data removed]",
            "text/plain": [
              "<Figure size 600x400 with 1 Axes>"
            ]
          },
          "metadata": {
            "tags": []
          }
        }
      ]
    }
  ]
}